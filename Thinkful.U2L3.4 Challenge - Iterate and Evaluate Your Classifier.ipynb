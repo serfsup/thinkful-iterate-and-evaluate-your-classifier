{
 "cells": [
  {
   "cell_type": "markdown",
   "metadata": {},
   "source": [
    "It's time to revisit your classifier from the previous assignment. Using the evaluation techniques we've covered here, look at your classifier's performance in more detail. Then go back and iterate by engineering new features, removing poor features, or tuning parameters. Repeat this process until you have five different versions of your classifier. Once you've iterated, answer these questions to compare the performance of each:\n",
    "\n",
    "<ul>\n",
    "    <li>Do any of your classifiers seem to overfit?</li>\n",
    "    <li>Which seem to perform the best? Why?</li>\n",
    "    <li>Which features seemed to be most impactful to performance?</li>\n",
    "</ul>\n",
    "Write up your iterations and answers to the above questions in a few pages. Submit a link below and go over it with your mentor to see if they have any other ideas on how you could improve your classifier's performance."
   ]
  },
  {
   "cell_type": "code",
   "execution_count": 32,
   "metadata": {},
   "outputs": [],
   "source": [
    "%matplotlib inline\n",
    "import numpy as np\n",
    "import pandas as pd\n",
    "import scipy\n",
    "import sklearn\n",
    "import matplotlib.pyplot as plt\n",
    "import seaborn as sns"
   ]
  },
  {
   "cell_type": "code",
   "execution_count": 33,
   "metadata": {},
   "outputs": [],
   "source": [
    "yelp_raw = pd.read_csv('sentiment labelled sentences/yelp_labelled.txt', delimiter= '\\t', header=None)\n",
    "yelp_raw.columns = ['text', 'sentiment']"
   ]
  },
  {
   "cell_type": "code",
   "execution_count": 34,
   "metadata": {},
   "outputs": [
    {
     "name": "stdout",
     "output_type": "stream",
     "text": [
      "                                                  text  sentiment\n",
      "0                             Wow... Loved this place.          1\n",
      "1                                   Crust is not good.          0\n",
      "2            Not tasty and the texture was just nasty.          0\n",
      "3    Stopped by during the late May bank holiday of...          1\n",
      "4    The selection on the menu was great and so wer...          1\n",
      "5       Now I am getting angry and I want my damn pho.          0\n",
      "6                Honeslty it didn't taste THAT fresh.)          0\n",
      "7    The potatoes were like rubber and you could te...          0\n",
      "8                            The fries were great too.          1\n",
      "9                                       A great touch.          1\n",
      "10                            Service was very prompt.          1\n",
      "11                                  Would not go back.          0\n",
      "12   The cashier had no care what so ever on what I...          0\n",
      "13   I tried the Cape Cod ravoli, chicken,with cran...          1\n",
      "14   I was disgusted because I was pretty sure that...          0\n",
      "15   I was shocked because no signs indicate cash o...          0\n",
      "16                                 Highly recommended.          1\n",
      "17              Waitress was a little slow in service.          0\n",
      "18   This place is not worth your time, let alone V...          0\n",
      "19                                did not like at all.          0\n",
      "20                                 The Burrittos Blah!          0\n",
      "21                                  The food, amazing.          1\n",
      "22                               Service is also cute.          1\n",
      "23   I could care less... The interior is just beau...          1\n",
      "24                                  So they performed.          1\n",
      "25   That's right....the red velvet cake.....ohhh t...          1\n",
      "26          - They never brought a salad we asked for.          0\n",
      "27   This hole in the wall has great Mexican street...          1\n",
      "28   Took an hour to get our food only 4 tables in ...          0\n",
      "29                   The worst was the salmon sashimi.          0\n",
      "..                                                 ...        ...\n",
      "970  I immediately said I wanted to talk to the man...          0\n",
      "971                    The ambiance isn't much better.          0\n",
      "972  Unfortunately, it only set us up for disapppoi...          0\n",
      "973                              The food wasn't good.          0\n",
      "974  Your servers suck, wait, correction, our serve...          0\n",
      "975      What happened next was pretty....off putting.          0\n",
      "976  too bad cause I know it's family owned, I real...          0\n",
      "977               Overpriced for what you are getting.          0\n",
      "978               I vomited in the bathroom mid lunch.          0\n",
      "979  I kept looking at the time and it had soon bec...          0\n",
      "980  I have been to very few places to eat that und...          0\n",
      "981  We started with the tuna sashimi which was bro...          0\n",
      "982                            Food was below average.          0\n",
      "983  It sure does beat the nachos at the movies but...          0\n",
      "984       All in all, Ha Long Bay was a bit of a flop.          0\n",
      "985  The problem I have is that they charge $11.99 ...          0\n",
      "986  Shrimp- When I unwrapped it (I live only 1/2 a...          0\n",
      "987     It lacked flavor, seemed undercooked, and dry.          0\n",
      "988  It really is impressive that the place hasn't ...          0\n",
      "989  I would avoid this place if you are staying in...          0\n",
      "990  The refried beans that came with my meal were ...          0\n",
      "991         Spend your money and time some place else.          0\n",
      "992  A lady at the table next to us found a live gr...          0\n",
      "993            the presentation of the food was awful.          0\n",
      "994           I can't tell you how disappointed I was.          0\n",
      "995  I think food should have flavor and texture an...          0\n",
      "996                           Appetite instantly gone.          0\n",
      "997  Overall I was not impressed and would not go b...          0\n",
      "998  The whole experience was underwhelming, and I ...          0\n",
      "999  Then, as if I hadn't wasted enough of my life ...          0\n",
      "\n",
      "[1000 rows x 2 columns]\n"
     ]
    }
   ],
   "source": [
    "print(yelp_raw)"
   ]
  },
  {
   "cell_type": "code",
   "execution_count": 35,
   "metadata": {},
   "outputs": [
    {
     "data": {
      "text/html": [
       "<div>\n",
       "<style scoped>\n",
       "    .dataframe tbody tr th:only-of-type {\n",
       "        vertical-align: middle;\n",
       "    }\n",
       "\n",
       "    .dataframe tbody tr th {\n",
       "        vertical-align: top;\n",
       "    }\n",
       "\n",
       "    .dataframe thead th {\n",
       "        text-align: right;\n",
       "    }\n",
       "</style>\n",
       "<table border=\"1\" class=\"dataframe\">\n",
       "  <thead>\n",
       "    <tr style=\"text-align: right;\">\n",
       "      <th></th>\n",
       "      <th>text</th>\n",
       "      <th>sentiment</th>\n",
       "    </tr>\n",
       "  </thead>\n",
       "  <tbody>\n",
       "    <tr>\n",
       "      <th>1</th>\n",
       "      <td>Crust is not good.</td>\n",
       "      <td>0</td>\n",
       "    </tr>\n",
       "    <tr>\n",
       "      <th>2</th>\n",
       "      <td>Not tasty and the texture was just nasty.</td>\n",
       "      <td>0</td>\n",
       "    </tr>\n",
       "    <tr>\n",
       "      <th>5</th>\n",
       "      <td>Now I am getting angry and I want my damn pho.</td>\n",
       "      <td>0</td>\n",
       "    </tr>\n",
       "    <tr>\n",
       "      <th>6</th>\n",
       "      <td>Honeslty it didn't taste THAT fresh.)</td>\n",
       "      <td>0</td>\n",
       "    </tr>\n",
       "    <tr>\n",
       "      <th>7</th>\n",
       "      <td>The potatoes were like rubber and you could te...</td>\n",
       "      <td>0</td>\n",
       "    </tr>\n",
       "  </tbody>\n",
       "</table>\n",
       "</div>"
      ],
      "text/plain": [
       "                                                text  sentiment\n",
       "1                                 Crust is not good.          0\n",
       "2          Not tasty and the texture was just nasty.          0\n",
       "5     Now I am getting angry and I want my damn pho.          0\n",
       "6              Honeslty it didn't taste THAT fresh.)          0\n",
       "7  The potatoes were like rubber and you could te...          0"
      ]
     },
     "execution_count": 35,
     "metadata": {},
     "output_type": "execute_result"
    }
   ],
   "source": [
    "yelp_neg = yelp_raw[yelp_raw['sentiment'] == 0]\n",
    "yelp_neg.head()"
   ]
  },
  {
   "cell_type": "code",
   "execution_count": 59,
   "metadata": {},
   "outputs": [
    {
     "data": {
      "text/plain": [
       "[('the', 191),\n",
       " ('I', 181),\n",
       " ('and', 160),\n",
       " ('was', 155),\n",
       " ('to', 129),\n",
       " ('a', 121),\n",
       " ('not', 87),\n",
       " ('The', 82),\n",
       " ('of', 72),\n",
       " ('is', 67),\n",
       " ('for', 62),\n",
       " ('this', 48),\n",
       " ('it', 47),\n",
       " ('in', 44),\n",
       " ('be', 44),\n",
       " ('food', 43),\n",
       " ('that', 41),\n",
       " ('at', 38),\n",
       " ('place', 37),\n",
       " ('but', 36),\n",
       " ('had', 31),\n",
       " ('with', 30),\n",
       " ('my', 29),\n",
       " ('like', 29),\n",
       " ('so', 29),\n",
       " ('have', 28),\n",
       " ('were', 27),\n",
       " ('are', 26),\n",
       " ('go', 25),\n",
       " ('we', 25),\n",
       " ('you', 22),\n",
       " ('service', 22),\n",
       " ('on', 21),\n",
       " ('It', 21),\n",
       " ('very', 21),\n",
       " ('We', 20),\n",
       " ('back', 20),\n",
       " ('they', 19),\n",
       " ('would', 19),\n",
       " (\"don't\", 19),\n",
       " ('no', 18),\n",
       " ('our', 18),\n",
       " ('here', 18),\n",
       " ('This', 17),\n",
       " ('will', 17),\n",
       " ('time', 16),\n",
       " ('from', 16),\n",
       " ('just', 15),\n",
       " ('never', 15),\n",
       " ('much', 15),\n",
       " ('got', 15),\n",
       " ('as', 15),\n",
       " ('there', 15),\n",
       " ('your', 14),\n",
       " ('an', 14),\n",
       " ('only', 14),\n",
       " ('good', 14),\n",
       " ('minutes', 14),\n",
       " ('been', 13),\n",
       " ('up', 13),\n",
       " ('being', 13),\n",
       " ('back.', 13),\n",
       " ('ever', 13),\n",
       " ('did', 13),\n",
       " ('out', 13),\n",
       " ('think', 13),\n",
       " ('going', 13),\n",
       " (\"wasn't\", 13),\n",
       " (\"I've\", 13),\n",
       " (\"won't\", 13),\n",
       " ('came', 12),\n",
       " ('eat', 12),\n",
       " ('one', 12),\n",
       " (\"I'm\", 12),\n",
       " ('get', 11),\n",
       " ('again.', 11),\n",
       " ('their', 11),\n",
       " ('food.', 11),\n",
       " ('more', 11),\n",
       " ('or', 11),\n",
       " ('if', 11),\n",
       " ('it.', 11),\n",
       " ('because', 10),\n",
       " ('-', 10),\n",
       " ('some', 10),\n",
       " ('which', 10),\n",
       " ('other', 10),\n",
       " ('about', 10),\n",
       " ('My', 10),\n",
       " ('really', 10),\n",
       " ('Not', 9),\n",
       " (\"didn't\", 9),\n",
       " ('too', 9),\n",
       " ('bad', 9),\n",
       " ('than', 9),\n",
       " ('better', 9),\n",
       " ('how', 9),\n",
       " ('all', 9),\n",
       " ('If', 9),\n",
       " ('another', 9)]"
      ]
     },
     "execution_count": 59,
     "metadata": {},
     "output_type": "execute_result"
    }
   ],
   "source": [
    "Counter(\" \".join(yelp_neg[\"text\"]).split()).most_common(100)"
   ]
  },
  {
   "cell_type": "code",
   "execution_count": 60,
   "metadata": {},
   "outputs": [],
   "source": [
    "# Bad review keywords chosed from negative reviews from the yelp_labelled.txt file.\n",
    "keywords = ['not', 'but', 'service', \"don't\", 'no', 'never', 'only', \"wasn't\", \"won't\", \"didn't\", 'bad']\n",
    "\n",
    "for key in keywords:\n",
    "    yelp_raw[str(key)] = yelp_raw.text.str.contains(\n",
    "        ' ' + str(key) + ' ',\n",
    "        case=False\n",
    "    )"
   ]
  },
  {
   "cell_type": "code",
   "execution_count": 61,
   "metadata": {},
   "outputs": [
    {
     "data": {
      "text/plain": [
       "<matplotlib.axes._subplots.AxesSubplot at 0x11e3e5240>"
      ]
     },
     "execution_count": 61,
     "metadata": {},
     "output_type": "execute_result"
    },
    {
     "data": {
      "image/png": "[encoded data removed]",
      "text/plain": [
       "<Figure size 1440x1440 with 2 Axes>"
      ]
     },
     "metadata": {},
     "output_type": "display_data"
    }
   ],
   "source": [
    "plt.figure(figsize=(20, 20))\n",
    "sns.heatmap(yelp_raw.corr())"
   ]
  },
  {
   "cell_type": "code",
   "execution_count": 62,
   "metadata": {},
   "outputs": [],
   "source": [
    "data = yelp_raw[keywords]\n",
    "target = yelp_raw['sentiment']"
   ]
  },
  {
   "cell_type": "code",
   "execution_count": 63,
   "metadata": {},
   "outputs": [
    {
     "name": "stdout",
     "output_type": "stream",
     "text": [
      "Number of negative reviews out of a total 1000 points : 354\n",
      "Number of negative reviews out of a total 1000 points : 420\n",
      "Number of negative reviews out of a total 1000 points : 520\n"
     ]
    }
   ],
   "source": [
    "# Data is boolean, so we will use a Bernoulli classifier.\n",
    "from sklearn.naive_bayes import BernoulliNB\n",
    "from sklearn.naive_bayes import GaussianNB\n",
    "from sklearn.naive_bayes import MultinomialNB\n",
    "# Instantiate model and store in a new variable.\n",
    "bnb = BernoulliNB()\n",
    "gnb = GaussianNB()\n",
    "mnb = MultinomialNB()\n",
    "# Fit our model to the data.\n",
    "bnb.fit(data, target)\n",
    "gnb.fit(data, target)\n",
    "mnb.fit(data, target)\n",
    "# Classify, storing the result in a new variable.\n",
    "y_pred = bnb.predict(data)\n",
    "y2_pred = gnb.predict(data)\n",
    "y3_pred = mnb.predict(data)\n",
    "# Display results.\n",
    "print(\"Number of negative reviews out of a total {} points : {}\".format(\n",
    "    data.shape[0],\n",
    "    (target != y_pred).sum()\n",
    "))\n",
    "print(\"Number of negative reviews out of a total {} points : {}\".format(\n",
    "    data.shape[0],\n",
    "    (target != y2_pred).sum()\n",
    "))\n",
    "print(\"Number of negative reviews out of a total {} points : {}\".format(\n",
    "    data.shape[0],\n",
    "    (target != y3_pred).sum()\n",
    "))"
   ]
  },
  {
   "cell_type": "code",
   "execution_count": 64,
   "metadata": {},
   "outputs": [
    {
     "data": {
      "text/plain": [
       "array([[198, 302],\n",
       "       [ 52, 448]])"
      ]
     },
     "execution_count": 64,
     "metadata": {},
     "output_type": "execute_result"
    }
   ],
   "source": [
    "from sklearn.metrics import confusion_matrix\n",
    "confusion_matrix(target, y_pred)"
   ]
  },
  {
   "cell_type": "code",
   "execution_count": 65,
   "metadata": {},
   "outputs": [
    {
     "name": "stdout",
     "output_type": "stream",
     "text": [
      "With 20% Holdout: 0.615\n",
      "Testing on Sample: 0.646\n"
     ]
    }
   ],
   "source": [
    "from sklearn.model_selection import train_test_split\n",
    "# Use train_test_split to create the necessary training and test groups\n",
    "X_train, X_test, y_train, y_test = train_test_split(data, target, test_size=0.2, random_state=20)\n",
    "print('With 20% Holdout: ' + str(bnb.fit(X_train, y_train).score(X_test, y_test)))\n",
    "print('Testing on Sample: ' + str(bnb.fit(data, target).score(data, target)))"
   ]
  },
  {
   "cell_type": "code",
   "execution_count": 66,
   "metadata": {},
   "outputs": [
    {
     "data": {
      "text/plain": [
       "array([0.68, 0.63, 0.7 , 0.56, 0.6 , 0.62, 0.67, 0.63, 0.64, 0.64])"
      ]
     },
     "execution_count": 66,
     "metadata": {},
     "output_type": "execute_result"
    }
   ],
   "source": [
    "from sklearn.model_selection import cross_val_score\n",
    "cross_val_score(bnb, data, target, cv=10)"
   ]
  },
  {
   "cell_type": "code",
   "execution_count": null,
   "metadata": {},
   "outputs": [],
   "source": []
  }
 ],
 "metadata": {
  "kernelspec": {
   "display_name": "Python 3",
   "language": "python",
   "name": "python3"
  },
  "language_info": {
   "codemirror_mode": {
    "name": "ipython",
    "version": 3
   },
   "file_extension": ".py",
   "mimetype": "text/x-python",
   "name": "python",
   "nbconvert_exporter": "python",
   "pygments_lexer": "ipython3",
   "version": "3.6.1"
  }
 },
 "nbformat": 4,
 "nbformat_minor": 2
}
